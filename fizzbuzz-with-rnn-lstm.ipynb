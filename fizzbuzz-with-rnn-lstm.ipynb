{
 "cells": [
  {
   "cell_type": "markdown",
   "metadata": {},
   "source": [
    "# KerasのRNN(LSTM)でFizzBuzz問題を解いてみた\n",
    "\n",
    "PythonのディープラーニングライブラリKerasで、再帰型ニューラルネットワーク（RNN）のLSTM（長短期記憶ユニット）を使って、FizzBuzz問題を解いてみました。"
   ]
  },
  {
   "cell_type": "markdown",
   "metadata": {},
   "source": [
    "## FizzBuzz問題とは\n",
    "\n",
    "**問題**\n",
    "\n",
    "1以上、100以下の整数値を出力するプログラムを書け。ただし；\n",
    "\n",
    "- 3の倍数のときは、数の代わりに「Fizz」と出力せよ\n",
    "- 5の倍数のときは、数の代わりに「Buzz」と出力せよ\n",
    "- 3と5の公倍数のときは、数の代わりに「FizzBuzz」と出力せよ\n",
    "\n",
    "**公式解答**\n",
    "\n",
    "普通は、for文とif文を使って解きます。\n",
    "\n",
    "```python\n",
    "for i in range(1, 101):\n",
    "    if i % 15 == 0:\n",
    "        print(\"FizzBuzz\")\n",
    "    elif i % 3 == 0:\n",
    "        print(\"Fizz\")\n",
    "    elif i % 5 == 0:\n",
    "        print(\"Buzz\")\n",
    "    else:\n",
    "        print(str(i))\n",
    "```\n",
    "\n",
    "```\n",
    "1\n",
    "2\n",
    "Fizz\n",
    "...(中略)...\n",
    "98\n",
    "Fizz\n",
    "Buzz\n",
    "```"
   ]
  },
  {
   "cell_type": "markdown",
   "metadata": {},
   "source": [
    "## 先人達\n",
    "\n",
    "あえて、機械学習やディープラーニングの手法でFizzBuzz問題を解いた先人達です。\n",
    "\n",
    "- [サポートベクターマシン（のライブラリLIVSVM）を使ってpythonでFizzBuzzを書いてみた。](https://qiita.com/cof/items/e02ada0adb1106635ac9)\n",
    "- [Kerasでfizzbuzz問題を解いてみる](https://qiita.com/cvusk/items/07659830c41b2c3ff02b)\n",
    "- [PythonとK-meansを使ったFizzbuzz](https://qiita.com/Polaris1080/items/3fdabed9567effb69781)\n",
    "- [FizzBuzz Zero ―― 人類の知識なしでFizzBuzzをマスターする](https://qiita.com/ymg_aq/items/d276357823f5b2ce46c5)\n",
    "\n",
    "LSTMで解いた人は、少なくともQiitaにはいないようだったので、解いてみました。\n",
    "\n",
    "なお、LSTMについては、[この記事](https://qiita.com/KojiOhki/items/89cd7b69a8a6239d67ca#lstm%E3%83%8D%E3%83%83%E3%83%88%E3%83%AF%E3%83%BC%E3%82%AF)が詳しいです。"
   ]
  },
  {
   "cell_type": "markdown",
   "metadata": {},
   "source": [
    "## 問題を解く"
   ]
  },
  {
   "cell_type": "markdown",
   "metadata": {},
   "source": [
    "### ライブラリのインポート"
   ]
  },
  {
   "cell_type": "code",
   "execution_count": 1,
   "metadata": {},
   "outputs": [
    {
     "name": "stderr",
     "output_type": "stream",
     "text": [
      "Using TensorFlow backend.\n"
     ]
    }
   ],
   "source": [
    "from os import mkdir\n",
    "from os.path import exists\n",
    "from sys import exc_info\n",
    "from itertools import cycle, islice\n",
    "from numpy import array, eye, shape, sum, unique\n",
    "import keras.optimizers as opt\n",
    "import keras.backend as K\n",
    "import keras.callbacks as clb\n",
    "import keras.models as mdl\n",
    "import keras.layers as lyr\n",
    "import keras.losses as lss\n",
    "import matplotlib.pyplot as plt"
   ]
  },
  {
   "cell_type": "markdown",
   "metadata": {},
   "source": [
    "### データの作成"
   ]
  },
  {
   "cell_type": "markdown",
   "metadata": {},
   "source": [
    "FizzBuzzの取りうる値は4種類（数字：0、Fizz：1、Buzz：2、FizzBuzz：3）です。そこに着目して、データを正規化しちゃいます。そうすると、15個のデータで1サイクルとなるので、これを繰り返してデータを生成します。データ量は何度か試行の末、3015に落ち着きました。"
   ]
  },
  {
   "cell_type": "code",
   "execution_count": 2,
   "metadata": {},
   "outputs": [
    {
     "name": "stdout",
     "output_type": "stream",
     "text": [
      "[0 0 1 0 2 1 0 0 1 2 0 1 0 0 3 0 0 1 0 2 1 0 0 1 2 0 1 0 0 3]\n",
      "<class 'numpy.ndarray'>\n"
     ]
    }
   ],
   "source": [
    "unit = [0, 0, 1, 0, 2, 1, 0, 0, 1, 2, 0, 1, 0, 0, 3]\n",
    "raw_data = array([i for i in islice(cycle(unit), 0, 3015)])\n",
    "print(raw_data[0:30])\n",
    "print(type(raw_data))"
   ]
  },
  {
   "cell_type": "markdown",
   "metadata": {},
   "source": [
    "FizzBuzzは**分類問題**と考えられるので、教師データ（正解データ、ラベル）をone-hot表現で与えます。以下はその下準備です。"
   ]
  },
  {
   "cell_type": "code",
   "execution_count": 3,
   "metadata": {},
   "outputs": [
    {
     "name": "stdout",
     "output_type": "stream",
     "text": [
      "[[1. 0. 0. 0.]\n",
      " [1. 0. 0. 0.]\n",
      " [0. 1. 0. 0.]\n",
      " [1. 0. 0. 0.]\n",
      " [0. 0. 1. 0.]]\n",
      "<class 'numpy.ndarray'>\n"
     ]
    }
   ],
   "source": [
    "num_of_class = len(unique(unit))\n",
    "onehot_data = eye(num_of_class)[raw_data]\n",
    "print(onehot_data[0:5])\n",
    "print(type(onehot_data))"
   ]
  },
  {
   "cell_type": "markdown",
   "metadata": {},
   "source": [
    "LSTMに食わせられるように、インプットとターゲットを整えます。`num_steps`は、LSTMで何ステップ分まで過去の出力を考慮に入れて予測するかを決める変数になります。15個のデータで1サイクルなので、理論上、`num_steps`は15で良いはずです。\n",
    "\n",
    "以下のイメージです。\n",
    "\n",
    "- -14〜0をインプットとし、1をターゲットにする\n",
    "- -13〜1をインプットとし、2をターゲットにする\n",
    "- -12〜2をインプットとし、3をターゲットにする\n",
    "- ...\n"
   ]
  },
  {
   "cell_type": "code",
   "execution_count": 4,
   "metadata": {},
   "outputs": [
    {
     "name": "stdout",
     "output_type": "stream",
     "text": [
      "[array([0, 0, 1, 0, 2, 1, 0, 0, 1, 2, 0, 1, 0, 0, 3]), array([0, 1, 0, 2, 1, 0, 0, 1, 2, 0, 1, 0, 0, 3, 0])]\n",
      "[array([1., 0., 0., 0.]), array([1., 0., 0., 0.])]\n"
     ]
    }
   ],
   "source": [
    "t_inputs, t_targets = [], []\n",
    "num_steps = len(unit) #15\n",
    "\n",
    "for i in range(len(raw_data) - num_steps):\n",
    "    t_inputs.append(raw_data[i : i + num_steps])\n",
    "    t_targets.append(onehot_data[i + num_steps])\n",
    "\n",
    "print(t_inputs[0:2])\n",
    "print(t_targets[0:2])"
   ]
  },
  {
   "cell_type": "markdown",
   "metadata": {},
   "source": [
    "LSTMが食ってくれるように、形状を整えます。"
   ]
  },
  {
   "cell_type": "code",
   "execution_count": 5,
   "metadata": {},
   "outputs": [
    {
     "name": "stdout",
     "output_type": "stream",
     "text": [
      "(3000, 15, 1)\n",
      "(3000, 4)\n"
     ]
    }
   ],
   "source": [
    "inputs = array(t_inputs).reshape(len(t_inputs), num_steps, 1)\n",
    "targets = array(t_targets)\n",
    "\n",
    "print(shape(inputs))\n",
    "print(shape(targets))"
   ]
  },
  {
   "cell_type": "markdown",
   "metadata": {},
   "source": [
    "### モデルの作成"
   ]
  },
  {
   "cell_type": "markdown",
   "metadata": {},
   "source": [
    "モデルクラスを作成します。要点は以下の3行です。\n",
    "\n",
    "```python\n",
    "        self.__model.add(lyr.LSTM(Model.units))\n",
    "#        for i in (range(Model.number_of_layer)):\n",
    "#            self.__model.add(lyr.Dense(Model.units, activation=Model.activation))\n",
    "        self.__model.add(lyr.Dense(targets.shape[1], activation=K.softmax))\n",
    "        self.__model.compile(loss=lss.categorical_crossentropy, optimizer=Model.optimizer)\n",
    "```\n",
    "\n",
    "入力層でLSTMネットワークに通して、出力層でソフトマックス関数を使って4つに分類します。シンプルなネットワークですね。LSTMの中身は結構複雑なんですが、Kerasさんがカプセル化してくれているので、とてもシンプルに見えます。\n",
    "\n",
    "なお、分類問題としたので、損失は交差エントロピーで評価します。"
   ]
  },
  {
   "cell_type": "code",
   "execution_count": 6,
   "metadata": {},
   "outputs": [],
   "source": [
    "class Model:\n",
    "    # モデル保存先\n",
    "    modeldir = './data'\n",
    "    modelfile = './data/Model.h5'\n",
    "\n",
    "    # モデルに関するパラメータ\n",
    "#    number_of_layer = 0\n",
    "    units = 32\n",
    "    \n",
    "    optimizer = opt.Adam()\n",
    "#    activation = K.identity\n",
    "    \n",
    "    # 訓練に関するパラメータ\n",
    "    batch_size = 15\n",
    "    epochs = 10\n",
    "    \n",
    "    callbacks = []\n",
    "\n",
    "#    min_delta = 0.01\n",
    "#    patience = 7\n",
    "#    early_stopping = clb.EarlyStopping(monitor='val_loss'\n",
    "#                                       , min_delta=min_delta\n",
    "#                                       , patience=patience\n",
    "#                                       , mode='auto')\n",
    "#    calllbacks.append(early_stopping)\n",
    "\n",
    "#    base_lr = 1e-3\n",
    "#    lr_decay_rate = 1 / 3\n",
    "#    lr_steps = 4\n",
    "#    lr_calc = lambda ep: float(\n",
    "#        base_lr * lr_decay_rate ** (ep * lr_steps // epochs))\n",
    "#    learning_rate_scheduler = clb.LearningRateScheduler(lr_calc)\n",
    "#    callbacks.append(learning_rate_scheduler)\n",
    "\n",
    "    factor = 0.5\n",
    "    verbose = 1\n",
    "    reduce_lr_on_plateau = clb.ReduceLROnPlateau(factor=factor,\n",
    "                                                 verbose=verbose)\n",
    "    callbacks.append(reduce_lr_on_plateau)\n",
    "\n",
    "    validation_split = 0.1\n",
    "    \n",
    "    # モデルの初期化\n",
    "    def __init__(self, recycle=True):\n",
    "        if recycle:\n",
    "            if exists(Model.modelfile):\n",
    "                try:\n",
    "                    print('訓練済みモデルを読み込みます。')\n",
    "                    self.__model = mdl.load_model(Model.modelfile)\n",
    "                    self.__istrained = True\n",
    "                    print('訓練済みモデルを読み込みました。')\n",
    "                    return None\n",
    "                except:\n",
    "                    print('訓練済みモデルの読み込み中にエラーが発生しました。')\n",
    "                    print('Unexpected error:', exc_info()[0])\n",
    "                    raise\n",
    "            else:\n",
    "                print('訓練済みモデルが存在しません。')\n",
    "                \n",
    "        print('空のモデルを作成します。')\n",
    "        self.__model = mdl.Sequential()\n",
    "        self.__istrained = False\n",
    "        print('空のモデルを作成しました。訓練を行ってください。')\n",
    "            \n",
    "    # 訓練\n",
    "    def train(self, inputs, targets):\n",
    "        if self.__istrained:\n",
    "            raise RuntimeError('このモデルは既に訓練済みです。')\n",
    "        \n",
    "        print('訓練を行うので、お待ちください。')\n",
    "#        print('学習が頭打ちになった場合、途中で訓練を打ち切ります。')\n",
    "\n",
    "        # モデルの実装\n",
    "        self.__model.add(lyr.LSTM(Model.units))\n",
    "#        for i in (range(Model.number_of_layer)):\n",
    "#            self.__model.add(lyr.Dense(Model.units, activation=Model.activation))\n",
    "        self.__model.add(lyr.Dense(targets.shape[1], activation=K.softmax))\n",
    "        self.__model.compile(loss=lss.categorical_crossentropy, optimizer=Model.optimizer)\n",
    "\n",
    "        # 訓練実施\n",
    "        hist = self.__model.fit(inputs, targets,\n",
    "                                batch_size=Model.batch_size\n",
    "                                , epochs=Model.epochs\n",
    "                                , callbacks=Model.callbacks\n",
    "                                , validation_split=Model.validation_split\n",
    "                               )\n",
    "        self.__istrained = True\n",
    "        \n",
    "        # 訓練状況の可視化\n",
    "        loss = hist.history['loss']\n",
    "        val_loss = hist.history['val_loss']\n",
    "        \n",
    "        plt.figure()\n",
    "        plt.plot(range(1, len(loss) + 1),\n",
    "                 loss, marker='.', label='訓練データ')\n",
    "        plt.plot(range(1, len(val_loss) + 1),\n",
    "                 val_loss, marker='.', label='テストデータ')\n",
    "        plt.legend(loc='best', fontsize=10)\n",
    "        plt.grid()\n",
    "        plt.xlabel('エポック')\n",
    "        plt.ylabel('損失')\n",
    "        plt.yscale('log')\n",
    "        plt.grid(which='major',color='black',linestyle='-')\n",
    "        plt.grid(which='minor',color='black',linestyle='-')\n",
    "        plt.show()\n",
    "        \n",
    "        # モデルの保存\n",
    "        if not exists(Model.modeldir):\n",
    "            try:\n",
    "                mkdir(Model.modeldir)\n",
    "            except:\n",
    "                print('モデル保存フォルダの作成中にエラーが発生しました。')\n",
    "                print('Unexpected error:', exc_info()[0])\n",
    "                raise\n",
    "        try:\n",
    "            self.__model.save(Model.modelfile)\n",
    "        except:\n",
    "            print('モデルの保存中にエラーが発生しました。')\n",
    "            print('Unexpected error:', exc_info()[0])\n",
    "            raise\n",
    "    \n",
    "    # 予測\n",
    "    def predict(self, inputs):\n",
    "        if self.__istrained:\n",
    "            return self.__model.predict(inputs)\n",
    "        else:\n",
    "            raise RuntimeError('モデルが訓練されていません。先に訓練を行ってください。')"
   ]
  },
  {
   "cell_type": "markdown",
   "metadata": {},
   "source": [
    "### モデルを使うクラスの作成"
   ]
  },
  {
   "cell_type": "markdown",
   "metadata": {},
   "source": [
    "モデルを使って問題を解くクラスを作成します。初期入力値として、-14〜0に相当するパターンを隠し持っておきます。\n",
    "\n",
    "- そいつをインプットとして予測を実施\n",
    "- 予測結果に応じたFizzBuzz表現を、解答末尾に追加\n",
    "- インプットの先頭を削除して、末尾に予測結果を追加し、新たなインプットとする\n",
    "\n",
    "以後、同じことの繰り返しです。"
   ]
  },
  {
   "cell_type": "code",
   "execution_count": 7,
   "metadata": {},
   "outputs": [],
   "source": [
    "class FizzBuzz:\n",
    "    def __init__(self, model):\n",
    "        self.__model = model\n",
    "    \n",
    "    def fizzbuzz(self, n):\n",
    "        unit = [0, 0, 1, 0, 2, 1, 0, 0, 1, 2, 0, 1, 0, 0, 3]\n",
    "        i = 1\n",
    "        answer = []\n",
    "        for i in range(i, n + 1):\n",
    "            t_inputs = array ([unit])\n",
    "            inputs = t_inputs.reshape(len(t_inputs), len(unit), 1)\n",
    "            prd = self.__model.predict(inputs) [0].argmax()\n",
    "            if prd == 0:\n",
    "                answer.append(str(i))\n",
    "            elif prd == 1:\n",
    "                answer.append('Fizz')\n",
    "            elif prd == 2:\n",
    "                answer.append('Buzz')\n",
    "            elif prd == 3:\n",
    "                answer.append('FizzBuzz')\n",
    "            else:\n",
    "                answer.append(str(i))\n",
    "            unit.pop(0)\n",
    "            unit.append(prd)\n",
    "        return answer"
   ]
  },
  {
   "cell_type": "markdown",
   "metadata": {},
   "source": [
    "正答率をチェックするクラスも作成しておきます。"
   ]
  },
  {
   "cell_type": "code",
   "execution_count": 8,
   "metadata": {},
   "outputs": [],
   "source": [
    "class FizzBuzzChecker:\n",
    "    def check(self, answer):\n",
    "        collect_answer = [\"FizzBuzz\" if i % 15 == 0\n",
    "                          else \"Fizz\" if i % 3 == 0\n",
    "                          else \"Buzz\" if i % 5 == 0\n",
    "                          else str(i)\n",
    "                          for i in range(1, len(answer) + 1)]\n",
    "        score = sum(array(answer) == array(collect_answer)) / len(answer)\n",
    "        return score"
   ]
  },
  {
   "cell_type": "markdown",
   "metadata": {},
   "source": [
    "### 実行\n",
    "\n",
    "準備は整ったので、いざ実行に移します。"
   ]
  },
  {
   "cell_type": "code",
   "execution_count": 9,
   "metadata": {},
   "outputs": [
    {
     "name": "stdout",
     "output_type": "stream",
     "text": [
      "空のモデルを作成します。\n",
      "空のモデルを作成しました。訓練を行ってください。\n",
      "訓練を行うので、お待ちください。\n",
      "Train on 2700 samples, validate on 300 samples\n",
      "Epoch 1/10\n",
      "2700/2700 [==============================] - 3s 1ms/step - loss: 1.1208 - val_loss: 1.0676\n",
      "Epoch 2/10\n",
      "2700/2700 [==============================] - 3s 927us/step - loss: 1.0046 - val_loss: 0.8683\n",
      "Epoch 3/10\n",
      "2700/2700 [==============================] - 2s 902us/step - loss: 0.7202 - val_loss: 0.5360\n",
      "Epoch 4/10\n",
      "2700/2700 [==============================] - 2s 846us/step - loss: 0.3594 - val_loss: 0.1428\n",
      "Epoch 5/10\n",
      "2700/2700 [==============================] - 2s 867us/step - loss: 0.0783 - val_loss: 0.0316\n",
      "Epoch 6/10\n",
      "2700/2700 [==============================] - 2s 887us/step - loss: 0.0206 - val_loss: 0.0137\n",
      "Epoch 7/10\n",
      "2700/2700 [==============================] - 2s 877us/step - loss: 0.0107 - val_loss: 0.0081\n",
      "Epoch 8/10\n",
      "2700/2700 [==============================] - 2s 888us/step - loss: 0.0067 - val_loss: 0.0056\n",
      "Epoch 9/10\n",
      "2700/2700 [==============================] - 2s 866us/step - loss: 0.0048 - val_loss: 0.0041\n",
      "Epoch 10/10\n",
      "2700/2700 [==============================] - 2s 893us/step - loss: 0.0036 - val_loss: 0.0032\n"
     ]
    },
    {
     "data": {
      "image/png": "[encoded data removed]",
      "text/plain": [
       "<Figure size 600x400 with 1 Axes>"
      ]
     },
     "metadata": {
      "image/png": {
       "height": 375,
       "width": 555
      }
     },
     "output_type": "display_data"
    },
    {
     "name": "stdout",
     "output_type": "stream",
     "text": [
      "['1', '2', 'Fizz', '4', 'Buzz', 'Fizz', '7', '8', 'Fizz', 'Buzz', '11', 'Fizz', '13', '14', 'FizzBuzz', '16', '17', 'Fizz', '19', 'Buzz', 'Fizz', '22', '23', 'Fizz', 'Buzz', '26', 'Fizz', '28', '29', 'FizzBuzz', '31', '32', 'Fizz', '34', 'Buzz', 'Fizz', '37', '38', 'Fizz', 'Buzz', '41', 'Fizz', '43', '44', 'FizzBuzz', '46', '47', 'Fizz', '49', 'Buzz', 'Fizz', '52', '53', 'Fizz', 'Buzz', '56', 'Fizz', '58', '59', 'FizzBuzz', '61', '62', 'Fizz', '64', 'Buzz', 'Fizz', '67', '68', 'Fizz', 'Buzz', '71', 'Fizz', '73', '74', 'FizzBuzz', '76', '77', 'Fizz', '79', 'Buzz', 'Fizz', '82', '83', 'Fizz', 'Buzz', '86', 'Fizz', '88', '89', 'FizzBuzz', '91', '92', 'Fizz', '94', 'Buzz', 'Fizz', '97', '98', 'Fizz', 'Buzz']\n",
      "1~100までの正答率：1.0\n",
      "1~10000までの正答率：1.0\n"
     ]
    }
   ],
   "source": [
    "m = Model(recycle=False)\n",
    "m.train(inputs, targets)\n",
    "\n",
    "fb = FizzBuzz(m)\n",
    "\n",
    "ans = fb.fizzbuzz(100)\n",
    "print(ans)\n",
    "\n",
    "chkr = FizzBuzzChecker()\n",
    "print('1~100までの正答率：' + str(chkr.check(ans)))\n",
    "\n",
    "ans2 = fb.fizzbuzz(10000)\n",
    "print('1~10000までの正答率：' + str(chkr.check(ans2)))"
   ]
  },
  {
   "cell_type": "markdown",
   "metadata": {},
   "source": [
    "パーフェクト！\n",
    "\n",
    "外挿（1〜10000）にも成功しているのがいい感じですね。"
   ]
  },
  {
   "cell_type": "markdown",
   "metadata": {},
   "source": [
    "## 考察\n",
    "\n",
    "とはいえ、FizzBuzzのように明確な周期をもったデータに対してLSTMを適用すれば、そりゃ100点も取れるし、外挿にも成功しますよね。\n",
    "\n",
    "そうではなくて、明確な周期をもたないと思われるデータに関する問題、例えば、バイナリーオプション——過去一定期間のドル円相場を元に次時点の上昇／下落を予測するという問題——に対して、LSTMを適用すると何が起きるのでしょう。うまくいくのでしょうか。過去の相場だけが決定要因ではないだろうから、そう簡単にはいかない気がしますけどね。ごく短期間にしぼればうまくいくのかな？\n",
    "\n",
    "でもま、FizzBuzz大好きっ子としては、Yet Anotherな解き方を発見できたので、それだけで大満足です。"
   ]
  },
  {
   "cell_type": "markdown",
   "metadata": {},
   "source": [
    "## 参考サイト\n",
    "\n",
    "- [LSTM で正弦波を予測する](https://intheweb.io/lstm-dezheng-xian-bo-woyu-ce-suru/)\n",
    "- [深層学習ライブラリKerasでRNNを使ってsin波予測](https://qiita.com/yukiB/items/5d5b202af86e3c587843)\n",
    "- [KerasでRNN(LSTM)を試してみる](https://qiita.com/sasayabaku/items/b7872a3b8acc7d6261bf)\n",
    "- [整数値のベクトルをone hot表現に変換](https://qiita.com/JeJeNeNo/items/8a7c1781f6a6ad522adf)\n",
    "- [出力層で使うソフトマックス関数](https://www.hellocybernetics.tech/entry/2016/11/30/012350)\n",
    "- [配列の最大要素のインデックスを返すNumPyのargmax関数の使い方](https://deepage.net/features/numpy-argmax.html)\n",
    "- [ndarrayにおける演算子](https://www.python-izm.com/data_analysis/numerical/numpy/ndarray_operators/#i-2)\n",
    "- [Rosetta Code/FizzBuzz/Python: List Comprehension (Python 3)](https://rosettacode.org/wiki/FizzBuzz#Python:_List_Comprehension_.28Python_3.29)\n",
    "- [NumPy配列ndarrayの条件を満たす要素数をカウント](https://note.nkmk.me/python-numpy-count/)\n"
   ]
  },
  {
   "cell_type": "code",
   "execution_count": null,
   "metadata": {},
   "outputs": [],
   "source": []
  }
 ],
 "metadata": {
  "kernelspec": {
   "display_name": "introduction",
   "language": "python",
   "name": "introduction"
  },
  "language_info": {
   "codemirror_mode": {
    "name": "ipython",
    "version": 3
   },
   "file_extension": ".py",
   "mimetype": "text/x-python",
   "name": "python",
   "nbconvert_exporter": "python",
   "pygments_lexer": "ipython3",
   "version": "3.6.6"
  }
 },
 "nbformat": 4,
 "nbformat_minor": 2
}
